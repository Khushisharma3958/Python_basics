{
  "nbformat": 4,
  "nbformat_minor": 0,
  "metadata": {
    "colab": {
      "provenance": []
    },
    "kernelspec": {
      "name": "python3",
      "display_name": "Python 3"
    },
    "language_info": {
      "name": "python"
    }
  },
  "cells": [
    {
      "cell_type": "markdown",
      "source": [
        "# Theory Questions :"
      ],
      "metadata": {
        "id": "KR9UBjybstlt"
      }
    },
    {
      "cell_type": "markdown",
      "source": [
        "1. What is Python, and why is it popular?\n",
        "   \n",
        "  Ans. Python is an general purpose programming language developed by \"Guido Van Rossum\" in the year 1991.\n",
        "- It is an high level Interpreted language.\n",
        "- Python is dynamically typed so we dont need to define names and declare its data types.\n",
        "\n",
        "\n",
        "- It is popular because it is widely used in multiple domains as in Web Development, Data -Science/Analytics, ML, in Gaming and in many more.\n",
        "- It is simple and easy to understand and also rich in libraries like Pandas, Numpy, Matplotlib, Seaborn etc.\n",
        "\n",
        "2. What is an interpreter in Python?\n",
        "\n",
        "  Ans. Python code is not compiled into machine code directly, so it needs an interpreter.\n",
        "\n",
        "- An interpreter translates and execute codes line by line during runtion.\n",
        "\n",
        "3. What are pre-defined keywords in Python?\n",
        "\n",
        "  Ans. Predefined keywords are also known as reserved keywords.\n",
        "\n",
        "- We cannot use it as variables, identifiers or as functions names because they are a part of a syntax.\n",
        "- For ex : print, if, else, elif, while, for, break, continue, is ,in etc.\n",
        "\n",
        "4. Can keywords be used as variable names ?\n",
        "\n",
        "  Ans. We cannot use keywords as variable names.\n",
        "\n",
        "5. What is mutability in Python ?\n",
        "  \n",
        "  Ans. Objects/Container whose state of value can be changed after they are created are called Mutable Objects.\n",
        "\n",
        "- For ex : List, Dictionary, Sets etc.\n",
        "\n",
        "6. Why are lists mutable, but tuples are immutable ?\n",
        "  \n",
        "  Ans. Lists are mutable because we can easily add or remove elements in a list even after they are created.\n",
        "- We can Append items.\n",
        "- Modify values.\n",
        "- Delete elements.\n",
        "\n",
        "  Tuples dont allow changes, once it is created we cannot add, delete or modify elements of it because they are meant for fixed data.\n",
        "\n",
        "7. What is the difference between “==” and “is” operators in Python ?\n",
        "\n",
        "  Ans. They both are comparison operators.\n",
        "  \n",
        "  \"==\" - Equality comparison operator.\n",
        "- It checks whether the two different variables having the same values or not.\n",
        "- Either the content of the variable is same even their memory locations are    different it will return \"True\".\n",
        "- For ex :\n",
        "          a=[1,2,3,4,5]\n",
        "          b=[1,2,3,4,5]\n",
        "          print(a == b) Return \"True\" because two variables having the same values.\n",
        "  \n",
        "  \"is\" - Identity comparison operator.\n",
        "- It checks whether the two different variables pointing to the same object or not.\n",
        "- Returns \"True\" only when the object is same otherwise return \"False\".\n",
        "-For ex:\n",
        "          a=[1,2,3,4,5]\n",
        "          b=[1,2,3,4,5]\n",
        "          print(a is b) Return \"False\" because a and b are different objects.\n",
        "\n",
        "8. What are logical operators in Python ?\n",
        "\n",
        "  Ans. Logical operators are used to combine multiple conditions.\n",
        "  There are 3 logical operators:\n",
        "  1. AND - True when both the conditions are true.\n",
        "  For ex: x=2\n",
        "          y=10\n",
        "          x<y and y>x\n",
        "  2. OR - True when either of the condition is true.\n",
        "  For ex:\n",
        "          x=2\n",
        "          y=10\n",
        "          x<10 or y>x\n",
        "  3. NOT - It reverse the result.\n",
        "  For ex:\n",
        "          x=4\n",
        "          y=10\n",
        "          print(not(x<10 and y>x))\n",
        "\n",
        "9. What is type casting in Python ?\n",
        "\n",
        "  Ans. The process of changing the one data type of value to another.\n",
        "  \n",
        "  For ex:\n",
        "  1. Number to string.\n",
        "  2. Float to int, etc.\n",
        "  \n",
        "  There are two types of type casting:\n",
        "  1. Implicit- We dont need to convert the data type manually.\n",
        "  2. Explicit- we need to convert the data type using functions.\n",
        "\n",
        "10. What is the difference between implicit and explicit type casting ?\n",
        "\n",
        "  Ans. There are basically two types of type casting:\n",
        "  1. Implicit- We dont need to convert the data types manually, python can convert it according to their needs.\n",
        "\n",
        "  2. Explicit- we need to convert one data type to another using functions.\n",
        "  - int (interger values)\n",
        "  - float (decimal values)\n",
        "  - str (string)\n",
        "  - bool (boolean), etc.\n",
        "\n",
        "11.  What is the purpose of conditional statements in Python ?\n",
        "\n",
        "    Ans. Conditional statements are basically used to execute certain block of code only if the condition are true.\n",
        "    \n",
        "    Types:\n",
        "    1. if\n",
        "    2. if-else (elif)\n",
        "    3. if-elif-else\n",
        "    4. nested -if-else.\n",
        "\n",
        "12.  How does the elif statement work ?\n",
        "\n",
        "  Ans. Elif statement is used when there are more than one conditions to check and we dont want to write multiple separate if conditions.\n",
        "   \n",
        "   For ex:\n",
        "          age = 15\n",
        "          if age == 18:\n",
        "              print(\"You are a mature person.\")\n",
        "          elif age>18:\n",
        "              print(\"You are an adult.\")\n",
        "          else:\n",
        "              print(\"You are not eligible!\")\n",
        "  Statement :\n",
        "- In the above code we have given the age, so if the \"if\" condition gets \"True\" then it will print that block of code and skip the rest of the conditions, then if the \"if\" condition gets \"False\" then it go on the elif condition checks it, if that will gets \"True\" it will execute elif block of code and skips the \"else block\" and if both the conditions gets \"False\" it will execute the else block of code.   \n",
        "\n",
        "13. What is the difference between for and while loops ?\n",
        "\n",
        "  Ans. There are basically two types of loop statements:\n",
        "  1. for - for loop is used when we know how many times we have to loop or we want to iterate over a sequence(like string, list, range, etc).\n",
        "  For ex:\n",
        "            for i in range(1,11): #it will print numbers from 1 to 10.\n",
        "              print(i)\n",
        "\n",
        "  2. while - while loop is used when we dont know that how many times we have to iterate so it will continue until the condition gets satisfied.\n",
        "  For ex:\n",
        "\n",
        "           num = 1\n",
        "           while (num<=5):\n",
        "                print(num)\n",
        "                num=num+1\n",
        "\n",
        "14.  Describe a scenario where a while loop is more suitable than a for loop.\n",
        "\n",
        "    Ans. while loop is more suitable than for loop when we dont know that how many times we have to iterate.\n",
        "\n",
        "    For ex:\n",
        "\n",
        "          correct_password=\"password\"\n",
        "          user_input=input(\"Enter your password\")\n",
        "\n",
        "          while user_input!=correct_password\n",
        "              print(\"Wrong password! try again\")\n",
        "              attempt=input(\"Enter your password\")\n",
        "          \n",
        "          print(\"Access granted!\")\n",
        "      \n",
        "      Statement: In the above code we have used while loop because we don't know about the times of attempt for correct password.\n",
        "      - Until the user entered correct password it will iterate the loop and print wrong password! try again and when user entered correct password it will give message \"Access granted\".\n",
        "\n",
        "\n",
        "  "
      ],
      "metadata": {
        "id": "0hVe2vtTrI1g"
      }
    },
    {
      "cell_type": "markdown",
      "source": [
        "# **Practical Questions :**\n",
        "\n",
        "1. Write a Python program to print \"Hello, World!\n"
      ],
      "metadata": {
        "id": "ujwrOnRAs0sr"
      }
    },
    {
      "cell_type": "markdown",
      "source": [],
      "metadata": {
        "id": "kVUTXC1C1gte"
      }
    },
    {
      "cell_type": "code",
      "source": [
        "print(\"Hello World!\")"
      ],
      "metadata": {
        "id": "0Y7m0sl_0s39"
      },
      "execution_count": null,
      "outputs": []
    },
    {
      "cell_type": "markdown",
      "source": [
        "2. Write a Python program that displays your name and age."
      ],
      "metadata": {
        "id": "zYuZWAnJrObm"
      }
    },
    {
      "cell_type": "markdown",
      "source": [],
      "metadata": {
        "id": "-cFxfoXjrBVN"
      }
    },
    {
      "cell_type": "code",
      "source": [
        "name=\"Khushi Sharma\"\n",
        "age = \"20\"\n",
        "print(\"Name: \",name)\n",
        "print(\"Age: \",age)"
      ],
      "metadata": {
        "id": "pcFyds3b2Avz"
      },
      "execution_count": null,
      "outputs": []
    },
    {
      "cell_type": "markdown",
      "source": [
        "3. Write code to print all the pre-defined keywords in Python using the keyword library."
      ],
      "metadata": {
        "id": "_d49qRs-49uu"
      }
    },
    {
      "cell_type": "code",
      "source": [
        "help(\"keywords\")"
      ],
      "metadata": {
        "id": "OzqpZSS86h3j"
      },
      "execution_count": null,
      "outputs": []
    },
    {
      "cell_type": "markdown",
      "source": [
        "4. Write a program that checks if a given word is a Python keyword.\n"
      ],
      "metadata": {
        "id": "d7LkiPfq-bfe"
      }
    },
    {
      "cell_type": "code",
      "source": [
        "import keyword\n",
        "\n",
        "word=\"pass\"\n",
        "if keyword.iskeyword(word):\n",
        "  print(\"It is a keyword.\")\n",
        "else:\n",
        "  print(\"It is not a keyword!\")\n",
        "\n"
      ],
      "metadata": {
        "id": "IStyvz5r-UNH"
      },
      "execution_count": null,
      "outputs": []
    },
    {
      "cell_type": "markdown",
      "source": [
        "5. Create a list and tuple in Python, and demonstrate how attempting to change an element works differently for each."
      ],
      "metadata": {
        "id": "CF-3-wLZXayw"
      }
    },
    {
      "cell_type": "code",
      "source": [
        "list=[1,2,3,4,5,]\n",
        "print(\"Original list: \",list)\n",
        "list[2]=300\n",
        "print(\"After changing an element in list: \",list)\n",
        "#List is mutable.\n",
        "\n",
        "tuple=(1,2,3,4,5)\n",
        "print(\"Original tuple: \",tuple)\n",
        "tuple[2]=300\n",
        "print(\"After changing an element in tuple: \",tuple)\n",
        "\n",
        "#We cannot add, remove or modify elements of tuple, because tuple is immutable."
      ],
      "metadata": {
        "id": "jnyCOF3Zchjx"
      },
      "execution_count": null,
      "outputs": []
    },
    {
      "cell_type": "markdown",
      "source": [
        "6. Write a function to demonstrate the behavior of mutable and immutable arguments."
      ],
      "metadata": {
        "id": "WQTP19ctp8Y7"
      }
    },
    {
      "cell_type": "code",
      "source": [],
      "metadata": {
        "id": "WOqubt2bFWN8"
      },
      "execution_count": null,
      "outputs": []
    },
    {
      "cell_type": "markdown",
      "source": [
        "7. Write a program that performs basic arithmetic operations on two user-input numbers."
      ],
      "metadata": {
        "id": "H1py6ILLclKQ"
      }
    },
    {
      "cell_type": "code",
      "source": [
        "first_num=int(input(\"Enter first number: \"))\n",
        "second_num= int (input(\"Enter second number: \"))\n",
        "operator=input(\"Enter operator:\")\n",
        "if operator == \"+\":\n",
        "  print(first_num+second_num)\n",
        "elif operator == \"-\":\n",
        "  print(first_num-second_num)\n",
        "\n",
        "elif operator == \"*\":\n",
        "  print(first_num*second_num)\n",
        "\n",
        "elif operator ==\"/\":\n",
        "  print(first_num/second_num)\n",
        "\n",
        "elif operator ==\"%\":\n",
        "  print(first_num%second_num)\n",
        "\n",
        "elif operator ==\"//\":\n",
        "  print(first_num//second_num)\n",
        "\n",
        "else:\n",
        "  print(\"Invalid operator!\")"
      ],
      "metadata": {
        "id": "AJY-ueqRHD5k"
      },
      "execution_count": null,
      "outputs": []
    },
    {
      "cell_type": "markdown",
      "source": [
        "8. Write a program to demonstrate the use of logical operators."
      ],
      "metadata": {
        "id": "6FtMtzUQlo_V"
      }
    },
    {
      "cell_type": "code",
      "source": [
        "num_1 = 2\n",
        "num_2 = 10\n",
        "result = num_1 < num_2 and num_2 > num_1 #both the conditions are true so \"True\"\n",
        "print(result)\n",
        "\n",
        "result=num_1 > num_2 or num_2 > num_1 #one condition is true so \"True\"\n",
        "print(result)\n",
        "\n",
        "result=not(num_1 < num_2 and num_2 > num_1) #reverting \"False\" because \"(not) True\".\n",
        "print(result)"
      ],
      "metadata": {
        "id": "swXgpcSCo0yd"
      },
      "execution_count": null,
      "outputs": []
    },
    {
      "cell_type": "markdown",
      "source": [
        "9. Write a Python program to convert user input from string to integer, float, and boolean types."
      ],
      "metadata": {
        "id": "MpmZrVlNsijX"
      }
    },
    {
      "cell_type": "code",
      "source": [
        "user_input=input(\"Enter a number: \")\n",
        "int_num=int(user_input)\n",
        "print(int_num)\n",
        "float_num=(float(user_input))\n",
        "print(float_num)\n",
        "bool_num=bool(user_input)\n",
        "print(bool_num)"
      ],
      "metadata": {
        "id": "kpeGHfQplnaT"
      },
      "execution_count": null,
      "outputs": []
    },
    {
      "cell_type": "markdown",
      "source": [
        ":10. Write code to demonstrate type casting with list elements."
      ],
      "metadata": {
        "id": "9oReztqiu5Pp"
      }
    },
    {
      "cell_type": "code",
      "source": [
        "str_list = [10,20,30,40,50,60]\n",
        "print(\"List Before type casting:\",str_list)\n",
        "\n",
        "int_list=[]\n",
        "for i in str_list:\n",
        "  int_list.append(int(i))\n",
        "print(\"List after type casting to int:\", int_list)\n",
        "\n",
        "float_list=[]\n",
        "for i in str_list:\n",
        "  float_list.append(float(i))\n",
        "print(\"List after type casting to float:\",float_list)\n",
        "\n",
        "booleans_list=[]\n",
        "for i in str_list:\n",
        "  booleans_list.append(bool(i))\n",
        "print(\"List after type casting to boolean:\",booleans_list)"
      ],
      "metadata": {
        "id": "yT1UP_nZuSEU"
      },
      "execution_count": null,
      "outputs": []
    },
    {
      "cell_type": "markdown",
      "source": [
        "11. Write a program that checks if a number is positive, negative, or zero."
      ],
      "metadata": {
        "id": "9q7DPx-Us3jI"
      }
    },
    {
      "cell_type": "code",
      "source": [
        "num = int(input(\"Enter a number:\"))\n",
        "if num  > 0:\n",
        "  print(\"Number is positive!\")\n",
        "elif num < 0:\n",
        "  print(\"Number is negative!\")\n",
        "elif num == 0:\n",
        "  print(\"Number is zero!\")"
      ],
      "metadata": {
        "id": "q6OGkx1niZmj"
      },
      "execution_count": null,
      "outputs": []
    },
    {
      "cell_type": "markdown",
      "source": [
        " 12. Write a for loop to print numbers from 1 to 10."
      ],
      "metadata": {
        "id": "CgkDnjIpuL10"
      }
    },
    {
      "cell_type": "code",
      "source": [
        "for i in range (1,11):\n",
        "  print(i)"
      ],
      "metadata": {
        "id": "_HzmMx6Pt4EL"
      },
      "execution_count": null,
      "outputs": []
    },
    {
      "cell_type": "markdown",
      "source": [
        "13. Write a Python program to find the sum of all even numbers between 1 and 50."
      ],
      "metadata": {
        "id": "pB7Zuu44ubj7"
      }
    },
    {
      "cell_type": "code",
      "source": [
        "total=0\n",
        "\n",
        "for i in range(1,51):\n",
        "  if i%2==0:\n",
        "    total=total+i\n",
        "print(\"The sum of all the even numbers till 50 is\",total )\n",
        "\n",
        "\n"
      ],
      "metadata": {
        "id": "mEe2uep0uYmo"
      },
      "execution_count": null,
      "outputs": []
    },
    {
      "cell_type": "markdown",
      "source": [
        "14.  Write a program to reverse a string using a while loop."
      ],
      "metadata": {
        "id": "22BMa1Wmy8Cu"
      }
    },
    {
      "cell_type": "code",
      "source": [
        "text = input(\"Enter a string: \")\n",
        "i = len(text)-1\n",
        "rev = \" \"\n",
        "while i>=0:\n",
        "  rev=rev+text[i]\n",
        "  i=i-1\n",
        "print(rev)\n",
        "\n",
        "\n"
      ],
      "metadata": {
        "id": "fltXk7IczR3Q"
      },
      "execution_count": null,
      "outputs": []
    },
    {
      "cell_type": "markdown",
      "source": [
        " 15. Write a Python program to calculate the factorial of a number provided by the user using a while loop."
      ],
      "metadata": {
        "id": "xrwzKutwOSU2"
      }
    },
    {
      "cell_type": "code",
      "source": [
        "num = int(input(\"Enter a number: \"))\n",
        "factorial = 1\n",
        "i = 1\n",
        "while i <= num:\n",
        "  factorial = factorial*i\n",
        "  i = i+1\n",
        "print(\"The factorial of\",num,\"is\",factorial)"
      ],
      "metadata": {
        "id": "wscw4Xvuzx0V"
      },
      "execution_count": null,
      "outputs": []
    },
    {
      "cell_type": "code",
      "source": [],
      "metadata": {
        "id": "9jG7RPdHTljN"
      },
      "execution_count": null,
      "outputs": []
    }
  ]
}